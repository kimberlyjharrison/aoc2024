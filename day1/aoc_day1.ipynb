{
 "cells": [
  {
   "cell_type": "code",
   "execution_count": 1,
   "id": "421e8aa3-239b-4271-abde-dfdd1c5e4361",
   "metadata": {},
   "outputs": [],
   "source": [
    "## load data, sort into lists\n",
    "data = open('input.txt').read().splitlines()\n",
    "a_sort = sorted([int(d[:5]) for d in data])\n",
    "b_sort = sorted([int(d[8:]) for d in data])"
   ]
  },
  {
   "cell_type": "code",
   "execution_count": 2,
   "id": "dcf92112-47ed-413b-906c-0fdba1e1213e",
   "metadata": {},
   "outputs": [
    {
     "data": {
      "text/plain": [
       "2086478"
      ]
     },
     "execution_count": 2,
     "metadata": {},
     "output_type": "execute_result"
    }
   ],
   "source": [
    "## Problem 1: calculate the product of the absolute values between lists\n",
    "total = 0\n",
    "for i in range(len(a_sort)):\n",
    "    diff = abs(b_sort[i] - a_sort[i])\n",
    "    total += diff\n",
    "\n",
    "total"
   ]
  },
  {
   "cell_type": "code",
   "execution_count": 3,
   "id": "7f4c2913-137b-4b5e-980d-14562d59c012",
   "metadata": {},
   "outputs": [
    {
     "data": {
      "text/plain": [
       "24941624"
      ]
     },
     "execution_count": 3,
     "metadata": {},
     "output_type": "execute_result"
    }
   ],
   "source": [
    "## Problem 2: Calculate similarity score by adding up each number in the left list after multiplying it by the number\n",
    "## of times that number appears in the right list.\n",
    "\n",
    "l_counter = []\n",
    "\n",
    "for i in a_sort:\n",
    "    counter = 0\n",
    "    for j in b_sort:\n",
    "        if i == j:\n",
    "            counter +=1\n",
    "    l_counter.append(counter)\n",
    "\n",
    "s = 0\n",
    "for k in range(len(l_counter)):\n",
    "    s += l_counter[k]*a_sort[k]\n",
    "s"
   ]
  },
  {
   "cell_type": "code",
   "execution_count": null,
   "id": "bcfb2524-32f5-4426-b9c7-e46ecc2cf002",
   "metadata": {},
   "outputs": [],
   "source": []
  }
 ],
 "metadata": {
  "kernelspec": {
   "display_name": "Python 3",
   "language": "python",
   "name": "python3"
  },
  "language_info": {
   "codemirror_mode": {
    "name": "ipython",
    "version": 3
   },
   "file_extension": ".py",
   "mimetype": "text/x-python",
   "name": "python",
   "nbconvert_exporter": "python",
   "pygments_lexer": "ipython3",
   "version": "3.13.0"
  }
 },
 "nbformat": 4,
 "nbformat_minor": 5
}
